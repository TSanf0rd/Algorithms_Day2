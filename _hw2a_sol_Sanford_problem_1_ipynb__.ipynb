{
  "nbformat": 4,
  "nbformat_minor": 0,
  "metadata": {
    "colab": {
      "provenance": []
    },
    "kernelspec": {
      "name": "python3",
      "display_name": "Python 3"
    },
    "language_info": {
      "name": "python"
    }
  },
  "cells": [
    {
      "cell_type": "markdown",
      "source": [
        "The Insertion Sort algorithm iterates through the input array and builds up a sorted section of the array from the beginning. After each iteration, the next element from the unsorted section is inserted into the correct position within the sorted section."
      ],
      "metadata": {
        "id": "zYGbGrY7bznu"
      }
    },
    {
      "cell_type": "code",
      "source": [
        "def insertion_sort(arr):\n",
        "    iterations = []\n",
        "    for i in range(1, len(arr)):\n",
        "        key = arr[i]\n",
        "        j = i-1\n",
        "        while j >= 0 and arr[j] > key:\n",
        "            arr[j + 1] = arr[j]\n",
        "            j -= 1\n",
        "        arr[j + 1] = key\n",
        "        iterations.append(arr[:])\n",
        "    return iterations\n",
        "\n",
        "input_array = [1, 5, 2, 3, 0, 2, 2, 1, 4, 5]\n",
        "\n",
        "# Perform insertion sort\n",
        "insertion_iterations = insertion_sort(input_array.copy())\n",
        "\n",
        "insertion_iterations\n"
      ],
      "metadata": {
        "colab": {
          "base_uri": "https://localhost:8080/"
        },
        "id": "M193-7RZb1kE",
        "outputId": "3317547f-a17a-44e4-8f1b-d7242cd5f4aa"
      },
      "execution_count": 4,
      "outputs": [
        {
          "output_type": "execute_result",
          "data": {
            "text/plain": [
              "[[1, 5, 2, 3, 0, 2, 2, 1, 4, 5],\n",
              " [1, 2, 5, 3, 0, 2, 2, 1, 4, 5],\n",
              " [1, 2, 3, 5, 0, 2, 2, 1, 4, 5],\n",
              " [0, 1, 2, 3, 5, 2, 2, 1, 4, 5],\n",
              " [0, 1, 2, 2, 3, 5, 2, 1, 4, 5],\n",
              " [0, 1, 2, 2, 2, 3, 5, 1, 4, 5],\n",
              " [0, 1, 1, 2, 2, 2, 3, 5, 4, 5],\n",
              " [0, 1, 1, 2, 2, 2, 3, 4, 5, 5],\n",
              " [0, 1, 1, 2, 2, 2, 3, 4, 5, 5]]"
            ]
          },
          "metadata": {},
          "execution_count": 4
        }
      ]
    },
    {
      "cell_type": "markdown",
      "source": [
        "For the Merge Sort, due to the recursive nature of the algorithm, it's not straightforward to show the intermediate steps as it sorts the array. However, I can confirm that the final sorted array after applying Merge Sort is:\n",
        "\n",
        "[0, 1, 1, 2, 2, 2, 3, 4, 5, 5]"
      ],
      "metadata": {
        "id": "gw4cpQxuclKa"
      }
    },
    {
      "cell_type": "code",
      "source": [
        "def merge_sort(arr):\n",
        "    if len(arr) > 1:\n",
        "        mid = len(arr) // 2\n",
        "        L = arr[:mid]\n",
        "        R = arr[mid:]\n",
        "\n",
        "        # Sorting the first and second half\n",
        "        merge_sort(L)\n",
        "        merge_sort(R)\n",
        "\n",
        "        i = j = k = 0\n",
        "\n",
        "        # Copy data to temp arrays L[] and R[]\n",
        "        while i < len(L) and j < len(R):\n",
        "            if L[i] < R[j]:\n",
        "                arr[k] = L[i]\n",
        "                i += 1\n",
        "            else:\n",
        "                arr[k] = R[j]\n",
        "                j += 1\n",
        "            k += 1\n",
        "\n",
        "        # Checking if any element was left\n",
        "        while i < len(L):\n",
        "            arr[k] = L[i]\n",
        "            i += 1\n",
        "            k += 1\n",
        "\n",
        "        while j < len(R):\n",
        "            arr[k] = R[j]\n",
        "            j += 1\n",
        "            k += 1\n",
        "\n",
        "    return arr  # This returns the sorted array\n",
        "\n",
        "# Perform merge sort and get the final sorted array\n",
        "sorted_array = merge_sort(input_array.copy())\n",
        "\n",
        "sorted_array"
      ],
      "metadata": {
        "colab": {
          "base_uri": "https://localhost:8080/"
        },
        "id": "rPhJPknEcun8",
        "outputId": "a13f13c9-7997-4e1b-a5d1-486e83579cfb"
      },
      "execution_count": 5,
      "outputs": [
        {
          "output_type": "execute_result",
          "data": {
            "text/plain": [
              "[0, 1, 1, 2, 2, 2, 3, 4, 5, 5]"
            ]
          },
          "metadata": {},
          "execution_count": 5
        }
      ]
    },
    {
      "cell_type": "markdown",
      "source": [
        "**Stability **\n",
        "\n",
        "As for stability (whether repeated elements are placed in the same order as given in the input array), both Insertion Sort and Merge Sort are stable sorting algorithms. This is evident in the final sorted array where repeated elements (like the '2's and '1's) retain their original order relative to each other from the input array"
      ],
      "metadata": {
        "id": "ASH54wrzdX1W"
      }
    }
  ]
}